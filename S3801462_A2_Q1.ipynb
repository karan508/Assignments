{
  "metadata": {
    "celltoolbar": "Raw Cell Format",
    "kernelspec": {
      "name": "python36",
      "display_name": "Python 3.6",
      "language": "python"
    },
    "language_info": {
      "mimetype": "text/x-python",
      "nbconvert_exporter": "python",
      "name": "python",
      "pygments_lexer": "ipython3",
      "version": "3.6.6",
      "file_extension": ".py",
      "codemirror_mode": {
        "version": 3,
        "name": "ipython"
      }
    }
  },
  "nbformat_minor": 2,
  "nbformat": 4,
  "cells": [
    {
      "cell_type": "markdown",
      "source": "## I solemnly swear that I have not discussed my assignment solutions with anyone in any way and the solutions I am submitting are my own personal work.\n\n## Full Name: Karan Singh",
      "metadata": {}
    },
    {
      "cell_type": "code",
      "source": "import warnings\nwarnings.filterwarnings(\"ignore\")\nimport pandas as pd\nimport numpy as np",
      "metadata": {
        "trusted": true
      },
      "execution_count": 1,
      "outputs": []
    },
    {
      "cell_type": "markdown",
      "source": "Loading our Dataset and dropping our column ID becasue we cannot retrieve any information from Column ID.",
      "metadata": {}
    },
    {
      "cell_type": "code",
      "source": "pd.set_option('display.max_columns', None) \n\ndf = pd.read_csv('A2.csv') #Loading the Data Set\ndf = df.drop(\"ID\", axis=1) \ndf.head()",
      "metadata": {
        "trusted": true
      },
      "execution_count": 2,
      "outputs": [
        {
          "execution_count": 2,
          "output_type": "execute_result",
          "data": {
            "text/html": "<div>\n<style scoped>\n    .dataframe tbody tr th:only-of-type {\n        vertical-align: middle;\n    }\n\n    .dataframe tbody tr th {\n        vertical-align: top;\n    }\n\n    .dataframe thead th {\n        text-align: right;\n    }\n</style>\n<table border=\"1\" class=\"dataframe\">\n  <thead>\n    <tr style=\"text-align: right;\">\n      <th></th>\n      <th>Age</th>\n      <th>Education</th>\n      <th>Marital_Status</th>\n      <th>Occupation</th>\n      <th>Annual_Income</th>\n    </tr>\n  </thead>\n  <tbody>\n    <tr>\n      <th>0</th>\n      <td>39</td>\n      <td>bachelors</td>\n      <td>never married</td>\n      <td>professional</td>\n      <td>high</td>\n    </tr>\n    <tr>\n      <th>1</th>\n      <td>50</td>\n      <td>doctorate</td>\n      <td>married</td>\n      <td>professional</td>\n      <td>mid</td>\n    </tr>\n    <tr>\n      <th>2</th>\n      <td>18</td>\n      <td>high school</td>\n      <td>never married</td>\n      <td>agriculture</td>\n      <td>low</td>\n    </tr>\n    <tr>\n      <th>3</th>\n      <td>30</td>\n      <td>bachelors</td>\n      <td>married</td>\n      <td>professional</td>\n      <td>mid</td>\n    </tr>\n    <tr>\n      <th>4</th>\n      <td>37</td>\n      <td>high school</td>\n      <td>married</td>\n      <td>agriculture</td>\n      <td>mid</td>\n    </tr>\n  </tbody>\n</table>\n</div>",
            "text/plain": "   Age    Education Marital_Status    Occupation Annual_Income\n0   39    bachelors  never married  professional          high\n1   50    doctorate        married  professional           mid\n2   18  high school  never married   agriculture           low\n3   30    bachelors        married  professional           mid\n4   37  high school        married   agriculture           mid"
          },
          "metadata": {}
        }
      ]
    },
    {
      "cell_type": "markdown",
      "source": "## Part A Solution",
      "metadata": {}
    },
    {
      "cell_type": "markdown",
      "source": "For part A we are defining our new function from which we can get compute gini index and entropy for our target feature.",
      "metadata": {}
    },
    {
      "cell_type": "code",
      "source": "def compute_impurity(feature, impurity_criterion):\n    \"\"\"\n    This function calculates impurity of a feature.\n    Supported impurity criteria: 'entropy', 'gini'\n    input: feature (this needs to be a Pandas series)\n    output: feature impurity\n    \"\"\"\n    probs = feature.value_counts(normalize=True)\n    \n    if impurity_criterion == 'entropy':\n        impurity = -1 * np.sum(np.log2(probs) * probs)\n    elif impurity_criterion == 'gini':\n        impurity = 1 - np.sum(np.square(probs))\n    else:\n        raise ValueError('Unknown impurity criterion')\n        \n    return(round(impurity, 3))",
      "metadata": {
        "trusted": true
      },
      "execution_count": 3,
      "outputs": []
    },
    {
      "cell_type": "markdown",
      "source": "The gini impurity index is defined as follows:\nGini(x):=1−∑i=1ℓP(t=i)2\n \nThe idea with Gini index is the same as in entropy in the sense that the more heterogenous and impure a feature is, the higher the Gini index.",
      "metadata": {}
    },
    {
      "cell_type": "code",
      "source": "split_criterion = 'gini'\ntarget_entropy = compute_impurity(df['Annual_Income'], split_criterion)\ntarget_entropy",
      "metadata": {
        "scrolled": false,
        "trusted": true
      },
      "execution_count": 4,
      "outputs": [
        {
          "execution_count": 4,
          "output_type": "execute_result",
          "data": {
            "text/plain": "0.555"
          },
          "metadata": {}
        }
      ]
    },
    {
      "cell_type": "markdown",
      "source": "Part A answer impurity of target feature is 0.555",
      "metadata": {}
    },
    {
      "cell_type": "markdown",
      "source": "##  Part B Solution",
      "metadata": {}
    },
    {
      "cell_type": "markdown",
      "source": "Let's compute the information gain for splitting based on a descriptive feature to figure out the best feature to split on. For this task, we do the following:\n\nCompute impurity of the target feature (using either entropy or gini index).\nPartition the dataset based on unique values of the descriptive feature.\nCompute impurity for each partition.\nCompute the remaining impurity as the weighted sum of impurity of each partition.\nCompute the information gain as the difference between the impurity of the target feature and the remaining impurity.\n\nWe will define another function to achieve this, called comp_feature_information_gain().",
      "metadata": {}
    },
    {
      "cell_type": "code",
      "source": "def comp_feature_information_gain(df, target, descriptive_feature, split_criterion, con_feature_cut=None):\n    \"\"\"\n    This function calculates information gain for splitting on \n    a particular descriptive feature for a given dataset\n    and a given impurity criteria.\n    Supported split criterion: 'entropy', 'gini'\n    \"\"\"\n    \n    print('target feature:', target)\n    print('descriptive_feature:', descriptive_feature if con_feature_cut is None else '{}_{}'.format(descriptive_feature, con_feature_cut))\n    print('split criterion:', split_criterion)\n            \n    target_entropy = compute_impurity(df[target], split_criterion)\n\n    # we define two lists below:\n    # entropy_list to store the entropy of each partition\n    # weight_list to store the relative number of observations in each partition\n    entropy_list = list()\n    weight_list = list()\n    \n    if con_feature_cut is not None:\n        # For less than con_feature_cut\n        df_feature_level = df[df[descriptive_feature] < con_feature_cut]\n        entropy_level = compute_impurity(df_feature_level[target], split_criterion)\n        entropy_list.append(round(entropy_level, 3))\n        weight_level = len(df_feature_level) / len(df)\n        weight_list.append(round(weight_level, 3))\n        # For more than con_feature_cut\n        df_feature_level = df[df[descriptive_feature] > con_feature_cut]\n        entropy_level = compute_impurity(df_feature_level[target], split_criterion)\n        entropy_list.append(round(entropy_level, 3))\n        weight_level = len(df_feature_level) / len(df)\n        weight_list.append(round(weight_level, 3))\n    else:\n        # loop over each level of the descriptive feature\n        # to partition the dataset with respect to that level\n        # and compute the entropy and the weight of the level's partition\n        for level in df[descriptive_feature].unique():\n            df_feature_level = df[df[descriptive_feature] == level]\n            entropy_level = compute_impurity(df_feature_level[target], split_criterion)\n            entropy_list.append(round(entropy_level, 3))\n            weight_level = len(df_feature_level) / len(df)\n            weight_list.append(round(weight_level, 3))\n\n    print('impurity of partitions:', entropy_list)\n    print('weights of partitions:', weight_list)\n\n    feature_remaining_impurity = round(np.sum(np.array(entropy_list) * np.array(weight_list)), 4)\n    print('remaining impurity:', feature_remaining_impurity)\n    \n    information_gain = target_entropy - feature_remaining_impurity\n    print('information gain:', round(information_gain, 4))\n    \n    print('====================')\n\n    return round(information_gain, 4)",
      "metadata": {
        "trusted": true
      },
      "execution_count": 5,
      "outputs": []
    },
    {
      "cell_type": "code",
      "source": "df.sort_values(by='Age', ascending=True)",
      "metadata": {
        "trusted": true
      },
      "execution_count": 6,
      "outputs": [
        {
          "execution_count": 6,
          "output_type": "execute_result",
          "data": {
            "text/html": "<div>\n<style scoped>\n    .dataframe tbody tr th:only-of-type {\n        vertical-align: middle;\n    }\n\n    .dataframe tbody tr th {\n        vertical-align: top;\n    }\n\n    .dataframe thead th {\n        text-align: right;\n    }\n</style>\n<table border=\"1\" class=\"dataframe\">\n  <thead>\n    <tr style=\"text-align: right;\">\n      <th></th>\n      <th>Age</th>\n      <th>Education</th>\n      <th>Marital_Status</th>\n      <th>Occupation</th>\n      <th>Annual_Income</th>\n    </tr>\n  </thead>\n  <tbody>\n    <tr>\n      <th>2</th>\n      <td>18</td>\n      <td>high school</td>\n      <td>never married</td>\n      <td>agriculture</td>\n      <td>low</td>\n    </tr>\n    <tr>\n      <th>5</th>\n      <td>23</td>\n      <td>high school</td>\n      <td>never married</td>\n      <td>agriculture</td>\n      <td>low</td>\n    </tr>\n    <tr>\n      <th>12</th>\n      <td>23</td>\n      <td>bachelors</td>\n      <td>never married</td>\n      <td>agriculture</td>\n      <td>low</td>\n    </tr>\n    <tr>\n      <th>19</th>\n      <td>25</td>\n      <td>bachelors</td>\n      <td>married</td>\n      <td>transport</td>\n      <td>high</td>\n    </tr>\n    <tr>\n      <th>13</th>\n      <td>25</td>\n      <td>high school</td>\n      <td>married</td>\n      <td>professional</td>\n      <td>high</td>\n    </tr>\n    <tr>\n      <th>15</th>\n      <td>29</td>\n      <td>bachelors</td>\n      <td>never married</td>\n      <td>agriculture</td>\n      <td>mid</td>\n    </tr>\n    <tr>\n      <th>3</th>\n      <td>30</td>\n      <td>bachelors</td>\n      <td>married</td>\n      <td>professional</td>\n      <td>mid</td>\n    </tr>\n    <tr>\n      <th>9</th>\n      <td>33</td>\n      <td>high school</td>\n      <td>married</td>\n      <td>transport</td>\n      <td>mid</td>\n    </tr>\n    <tr>\n      <th>14</th>\n      <td>35</td>\n      <td>bachelors</td>\n      <td>married</td>\n      <td>agriculture</td>\n      <td>mid</td>\n    </tr>\n    <tr>\n      <th>10</th>\n      <td>36</td>\n      <td>high school</td>\n      <td>never married</td>\n      <td>transport</td>\n      <td>mid</td>\n    </tr>\n    <tr>\n      <th>4</th>\n      <td>37</td>\n      <td>high school</td>\n      <td>married</td>\n      <td>agriculture</td>\n      <td>mid</td>\n    </tr>\n    <tr>\n      <th>17</th>\n      <td>37</td>\n      <td>bachelors</td>\n      <td>married</td>\n      <td>professional</td>\n      <td>mid</td>\n    </tr>\n    <tr>\n      <th>18</th>\n      <td>39</td>\n      <td>high school</td>\n      <td>divorced</td>\n      <td>professional</td>\n      <td>high</td>\n    </tr>\n    <tr>\n      <th>0</th>\n      <td>39</td>\n      <td>bachelors</td>\n      <td>never married</td>\n      <td>professional</td>\n      <td>high</td>\n    </tr>\n    <tr>\n      <th>7</th>\n      <td>40</td>\n      <td>doctorate</td>\n      <td>married</td>\n      <td>professional</td>\n      <td>high</td>\n    </tr>\n    <tr>\n      <th>16</th>\n      <td>44</td>\n      <td>doctorate</td>\n      <td>divorced</td>\n      <td>transport</td>\n      <td>mid</td>\n    </tr>\n    <tr>\n      <th>11</th>\n      <td>45</td>\n      <td>doctorate</td>\n      <td>married</td>\n      <td>professional</td>\n      <td>mid</td>\n    </tr>\n    <tr>\n      <th>8</th>\n      <td>46</td>\n      <td>bachelors</td>\n      <td>divorced</td>\n      <td>transport</td>\n      <td>mid</td>\n    </tr>\n    <tr>\n      <th>1</th>\n      <td>50</td>\n      <td>doctorate</td>\n      <td>married</td>\n      <td>professional</td>\n      <td>mid</td>\n    </tr>\n    <tr>\n      <th>6</th>\n      <td>52</td>\n      <td>high school</td>\n      <td>divorced</td>\n      <td>transport</td>\n      <td>mid</td>\n    </tr>\n  </tbody>\n</table>\n</div>",
            "text/plain": "    Age    Education Marital_Status    Occupation Annual_Income\n2    18  high school  never married   agriculture           low\n5    23  high school  never married   agriculture           low\n12   23    bachelors  never married   agriculture           low\n19   25    bachelors        married     transport          high\n13   25  high school        married  professional          high\n15   29    bachelors  never married   agriculture           mid\n3    30    bachelors        married  professional           mid\n9    33  high school        married     transport           mid\n14   35    bachelors        married   agriculture           mid\n10   36  high school  never married     transport           mid\n4    37  high school        married   agriculture           mid\n17   37    bachelors        married  professional           mid\n18   39  high school       divorced  professional          high\n0    39    bachelors  never married  professional          high\n7    40    doctorate        married  professional          high\n16   44    doctorate       divorced     transport           mid\n11   45    doctorate        married  professional           mid\n8    46    bachelors       divorced     transport           mid\n1    50    doctorate        married  professional           mid\n6    52  high school       divorced     transport           mid"
          },
          "metadata": {}
        }
      ]
    },
    {
      "cell_type": "markdown",
      "source": "As Age feature is a continuous feature, After sorting the rows based on age we will pick mid-point of two adjacent ages where target feature value is changing.\n\nAs per above strategy we will get these cuts: 24, 27, 38, 42",
      "metadata": {}
    },
    {
      "cell_type": "code",
      "source": "for cut in [24, 27, 38, 42]:\n    comp_feature_information_gain(df, 'Annual_Income', 'Age', split_criterion, con_feature_cut=cut)",
      "metadata": {
        "trusted": true
      },
      "execution_count": 7,
      "outputs": [
        {
          "text": "target feature: Annual_Income\ndescriptive_feature: Age_24\nsplit criterion: gini\nimpurity of partitions: [0.0, 0.415]\nweights of partitions: [0.15, 0.85]\nremaining impurity: 0.3527\ninformation gain: 0.2023\n====================\ntarget feature: Annual_Income\ndescriptive_feature: Age_27\nsplit criterion: gini\nimpurity of partitions: [0.48, 0.32]\nweights of partitions: [0.25, 0.75]\nremaining impurity: 0.36\ninformation gain: 0.195\n====================\ntarget feature: Annual_Income\ndescriptive_feature: Age_38\nsplit criterion: gini\nimpurity of partitions: [0.569, 0.469]\nweights of partitions: [0.6, 0.4]\nremaining impurity: 0.529\ninformation gain: 0.026\n====================\ntarget feature: Annual_Income\ndescriptive_feature: Age_42\nsplit criterion: gini\nimpurity of partitions: [0.631, 0.0]\nweights of partitions: [0.75, 0.25]\nremaining impurity: 0.4732\ninformation gain: 0.0818\n====================\n",
          "name": "stdout",
          "output_type": "stream"
        }
      ]
    },
    {
      "cell_type": "code",
      "source": "for feature in df.drop(['Age', 'Annual_Income'],axis=1).columns:\n    feature_info_gain = comp_feature_information_gain(df, 'Annual_Income', feature, split_criterion)",
      "metadata": {
        "trusted": true
      },
      "execution_count": 8,
      "outputs": [
        {
          "text": "target feature: Annual_Income\ndescriptive_feature: Education\nsplit criterion: gini\nimpurity of partitions: [0.531, 0.375, 0.625]\nweights of partitions: [0.4, 0.2, 0.4]\nremaining impurity: 0.5374\ninformation gain: 0.0176\n====================\ntarget feature: Annual_Income\ndescriptive_feature: Marital_Status\nsplit criterion: gini\nimpurity of partitions: [0.611, 0.42, 0.375]\nweights of partitions: [0.3, 0.5, 0.2]\nremaining impurity: 0.4683\ninformation gain: 0.0867\n====================\ntarget feature: Annual_Income\ndescriptive_feature: Occupation\nsplit criterion: gini\nimpurity of partitions: [0.5, 0.5, 0.278]\nweights of partitions: [0.4, 0.3, 0.3]\nremaining impurity: 0.4334\ninformation gain: 0.1216\n====================\n",
          "name": "stdout",
          "output_type": "stream"
        }
      ]
    },
    {
      "cell_type": "code",
      "source": "df_splits = pd.DataFrame(columns=['Split', 'Remainder', 'Information_Gain', 'Is_Optimal'])\ndf_splits.loc[len(df_splits)] = ['Age_24', 0.3527, 0.2023, True]\ndf_splits.loc[len(df_splits)] = ['Age_27', 0.36, 0.195, False]\ndf_splits.loc[len(df_splits)] = ['Age_38', 0.529, 0.026, False]\ndf_splits.loc[len(df_splits)] = ['Age_42', 0.4732, 0.0818, False]\ndf_splits.loc[len(df_splits)] = ['Education', 0.5374, 0.0176, False]\ndf_splits.loc[len(df_splits)] = ['Marital_Status', 0.4683, 0.0867, False]\ndf_splits.loc[len(df_splits)] = ['Occupation', 0.4334, 0.1216, False]\ndf_splits",
      "metadata": {
        "trusted": true
      },
      "execution_count": 9,
      "outputs": [
        {
          "execution_count": 9,
          "output_type": "execute_result",
          "data": {
            "text/html": "<div>\n<style scoped>\n    .dataframe tbody tr th:only-of-type {\n        vertical-align: middle;\n    }\n\n    .dataframe tbody tr th {\n        vertical-align: top;\n    }\n\n    .dataframe thead th {\n        text-align: right;\n    }\n</style>\n<table border=\"1\" class=\"dataframe\">\n  <thead>\n    <tr style=\"text-align: right;\">\n      <th></th>\n      <th>Split</th>\n      <th>Remainder</th>\n      <th>Information_Gain</th>\n      <th>Is_Optimal</th>\n    </tr>\n  </thead>\n  <tbody>\n    <tr>\n      <th>0</th>\n      <td>Age_24</td>\n      <td>0.3527</td>\n      <td>0.2023</td>\n      <td>True</td>\n    </tr>\n    <tr>\n      <th>1</th>\n      <td>Age_27</td>\n      <td>0.3600</td>\n      <td>0.1950</td>\n      <td>False</td>\n    </tr>\n    <tr>\n      <th>2</th>\n      <td>Age_38</td>\n      <td>0.5290</td>\n      <td>0.0260</td>\n      <td>False</td>\n    </tr>\n    <tr>\n      <th>3</th>\n      <td>Age_42</td>\n      <td>0.4732</td>\n      <td>0.0818</td>\n      <td>False</td>\n    </tr>\n    <tr>\n      <th>4</th>\n      <td>Education</td>\n      <td>0.5374</td>\n      <td>0.0176</td>\n      <td>False</td>\n    </tr>\n    <tr>\n      <th>5</th>\n      <td>Marital_Status</td>\n      <td>0.4683</td>\n      <td>0.0867</td>\n      <td>False</td>\n    </tr>\n    <tr>\n      <th>6</th>\n      <td>Occupation</td>\n      <td>0.4334</td>\n      <td>0.1216</td>\n      <td>False</td>\n    </tr>\n  </tbody>\n</table>\n</div>",
            "text/plain": "            Split  Remainder  Information_Gain Is_Optimal\n0          Age_24     0.3527            0.2023       True\n1          Age_27     0.3600            0.1950      False\n2          Age_38     0.5290            0.0260      False\n3          Age_42     0.4732            0.0818      False\n4       Education     0.5374            0.0176      False\n5  Marital_Status     0.4683            0.0867      False\n6      Occupation     0.4334            0.1216      False"
          },
          "metadata": {}
        }
      ]
    },
    {
      "cell_type": "markdown",
      "source": "## Part C Solution",
      "metadata": {}
    },
    {
      "cell_type": "markdown",
      "source": "In this problem we are considering 'Education' descriptive feature as our root node and making predictions.",
      "metadata": {}
    },
    {
      "cell_type": "code",
      "source": "for degree in df['Education'].unique():\n    print(\"Education level: \", degree)\n    for income_level in df['Annual_Income'].unique():\n        print(\"Income: \", income_level)\n        result_df = df.loc[(df['Education'] == degree) & (df['Annual_Income'] == income_level)]\n        print(\"probability: \", round(len(result_df)/ len(df), 3))\n    print(\"=============================\")\n        ",
      "metadata": {
        "trusted": true
      },
      "execution_count": 10,
      "outputs": [
        {
          "text": "Education level:  bachelors\nIncome:  high\nprobability:  0.1\nIncome:  mid\nprobability:  0.25\nIncome:  low\nprobability:  0.05\n=============================\nEducation level:  doctorate\nIncome:  high\nprobability:  0.05\nIncome:  mid\nprobability:  0.15\nIncome:  low\nprobability:  0.0\n=============================\nEducation level:  high school\nIncome:  high\nprobability:  0.1\nIncome:  mid\nprobability:  0.2\nIncome:  low\nprobability:  0.1\n=============================\n",
          "name": "stdout",
          "output_type": "stream"
        }
      ]
    },
    {
      "cell_type": "code",
      "source": "df_prediction = pd.DataFrame(columns=['Leaf_Condition', 'Low_Income_Prob', 'Mid_Income_Prob', 'High_Income_Prob', 'Leaf_Prediction'])\ndf_prediction.loc[len(df_prediction)] = ['bachelors', 0.05, 0.25, 0.2, 'mid']\ndf_prediction.loc[len(df_prediction)] = ['doctorate', 0, 0.15, 0.1, 'mid']\ndf_prediction.loc[len(df_prediction)] = ['high school', 0.1, 0.2, 0.1, 'mid']\ndf_prediction",
      "metadata": {
        "trusted": true
      },
      "execution_count": 11,
      "outputs": [
        {
          "execution_count": 11,
          "output_type": "execute_result",
          "data": {
            "text/html": "<div>\n<style scoped>\n    .dataframe tbody tr th:only-of-type {\n        vertical-align: middle;\n    }\n\n    .dataframe tbody tr th {\n        vertical-align: top;\n    }\n\n    .dataframe thead th {\n        text-align: right;\n    }\n</style>\n<table border=\"1\" class=\"dataframe\">\n  <thead>\n    <tr style=\"text-align: right;\">\n      <th></th>\n      <th>Leaf_Condition</th>\n      <th>Low_Income_Prob</th>\n      <th>Mid_Income_Prob</th>\n      <th>High_Income_Prob</th>\n      <th>Leaf_Prediction</th>\n    </tr>\n  </thead>\n  <tbody>\n    <tr>\n      <th>0</th>\n      <td>bachelors</td>\n      <td>0.05</td>\n      <td>0.25</td>\n      <td>0.2</td>\n      <td>mid</td>\n    </tr>\n    <tr>\n      <th>1</th>\n      <td>doctorate</td>\n      <td>0.00</td>\n      <td>0.15</td>\n      <td>0.1</td>\n      <td>mid</td>\n    </tr>\n    <tr>\n      <th>2</th>\n      <td>high school</td>\n      <td>0.10</td>\n      <td>0.20</td>\n      <td>0.1</td>\n      <td>mid</td>\n    </tr>\n  </tbody>\n</table>\n</div>",
            "text/plain": "  Leaf_Condition  Low_Income_Prob  Mid_Income_Prob  High_Income_Prob  \\\n0      bachelors             0.05             0.25               0.2   \n1      doctorate             0.00             0.15               0.1   \n2    high school             0.10             0.20               0.1   \n\n  Leaf_Prediction  \n0             mid  \n1             mid  \n2             mid  "
          },
          "metadata": {}
        }
      ]
    },
    {
      "cell_type": "markdown",
      "source": "Reason for such leaf_predictions is because education provides least information gain.",
      "metadata": {}
    },
    {
      "cell_type": "code",
      "source": "df_splits",
      "metadata": {
        "trusted": true
      },
      "execution_count": 12,
      "outputs": [
        {
          "execution_count": 12,
          "output_type": "execute_result",
          "data": {
            "text/html": "<div>\n<style scoped>\n    .dataframe tbody tr th:only-of-type {\n        vertical-align: middle;\n    }\n\n    .dataframe tbody tr th {\n        vertical-align: top;\n    }\n\n    .dataframe thead th {\n        text-align: right;\n    }\n</style>\n<table border=\"1\" class=\"dataframe\">\n  <thead>\n    <tr style=\"text-align: right;\">\n      <th></th>\n      <th>Split</th>\n      <th>Remainder</th>\n      <th>Information_Gain</th>\n      <th>Is_Optimal</th>\n    </tr>\n  </thead>\n  <tbody>\n    <tr>\n      <th>0</th>\n      <td>Age_24</td>\n      <td>0.3527</td>\n      <td>0.2023</td>\n      <td>True</td>\n    </tr>\n    <tr>\n      <th>1</th>\n      <td>Age_27</td>\n      <td>0.3600</td>\n      <td>0.1950</td>\n      <td>False</td>\n    </tr>\n    <tr>\n      <th>2</th>\n      <td>Age_38</td>\n      <td>0.5290</td>\n      <td>0.0260</td>\n      <td>False</td>\n    </tr>\n    <tr>\n      <th>3</th>\n      <td>Age_42</td>\n      <td>0.4732</td>\n      <td>0.0818</td>\n      <td>False</td>\n    </tr>\n    <tr>\n      <th>4</th>\n      <td>Education</td>\n      <td>0.5374</td>\n      <td>0.0176</td>\n      <td>False</td>\n    </tr>\n    <tr>\n      <th>5</th>\n      <td>Marital_Status</td>\n      <td>0.4683</td>\n      <td>0.0867</td>\n      <td>False</td>\n    </tr>\n    <tr>\n      <th>6</th>\n      <td>Occupation</td>\n      <td>0.4334</td>\n      <td>0.1216</td>\n      <td>False</td>\n    </tr>\n  </tbody>\n</table>\n</div>",
            "text/plain": "            Split  Remainder  Information_Gain Is_Optimal\n0          Age_24     0.3527            0.2023       True\n1          Age_27     0.3600            0.1950      False\n2          Age_38     0.5290            0.0260      False\n3          Age_42     0.4732            0.0818      False\n4       Education     0.5374            0.0176      False\n5  Marital_Status     0.4683            0.0867      False\n6      Occupation     0.4334            0.1216      False"
          },
          "metadata": {}
        }
      ]
    },
    {
      "cell_type": "code",
      "source": "df_prediction",
      "metadata": {
        "trusted": true
      },
      "execution_count": 13,
      "outputs": [
        {
          "execution_count": 13,
          "output_type": "execute_result",
          "data": {
            "text/html": "<div>\n<style scoped>\n    .dataframe tbody tr th:only-of-type {\n        vertical-align: middle;\n    }\n\n    .dataframe tbody tr th {\n        vertical-align: top;\n    }\n\n    .dataframe thead th {\n        text-align: right;\n    }\n</style>\n<table border=\"1\" class=\"dataframe\">\n  <thead>\n    <tr style=\"text-align: right;\">\n      <th></th>\n      <th>Leaf_Condition</th>\n      <th>Low_Income_Prob</th>\n      <th>Mid_Income_Prob</th>\n      <th>High_Income_Prob</th>\n      <th>Leaf_Prediction</th>\n    </tr>\n  </thead>\n  <tbody>\n    <tr>\n      <th>0</th>\n      <td>bachelors</td>\n      <td>0.05</td>\n      <td>0.25</td>\n      <td>0.2</td>\n      <td>mid</td>\n    </tr>\n    <tr>\n      <th>1</th>\n      <td>doctorate</td>\n      <td>0.00</td>\n      <td>0.15</td>\n      <td>0.1</td>\n      <td>mid</td>\n    </tr>\n    <tr>\n      <th>2</th>\n      <td>high school</td>\n      <td>0.10</td>\n      <td>0.20</td>\n      <td>0.1</td>\n      <td>mid</td>\n    </tr>\n  </tbody>\n</table>\n</div>",
            "text/plain": "  Leaf_Condition  Low_Income_Prob  Mid_Income_Prob  High_Income_Prob  \\\n0      bachelors             0.05             0.25               0.2   \n1      doctorate             0.00             0.15               0.1   \n2    high school             0.10             0.20               0.1   \n\n  Leaf_Prediction  \n0             mid  \n1             mid  \n2             mid  "
          },
          "metadata": {}
        }
      ]
    }
  ]
}